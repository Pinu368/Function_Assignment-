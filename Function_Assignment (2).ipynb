{
  "nbformat": 4,
  "nbformat_minor": 0,
  "metadata": {
    "colab": {
      "provenance": []
    },
    "kernelspec": {
      "name": "python3",
      "display_name": "Python 3"
    },
    "language_info": {
      "name": "python"
    }
  },
  "cells": [
    {
      "cell_type": "markdown",
      "source": [
        "#1. What is the difference between a function and a method in Python?-\n",
        "\n"
      ],
      "metadata": {
        "id": "IKuGAuKiVlys"
      }
    },
    {
      "cell_type": "markdown",
      "source": [
        "#2. Explain the concept of function arguments and parameters in Python."
      ],
      "metadata": {
        "id": "VYKjhSslW12e"
      }
    },
    {
      "cell_type": "markdown",
      "source": [
        "-Here, key differences between Method and Function in Python are explained. Java is also an OOP language, but there is no concept of Function in it. But Python has both concept of Method and Function.\n",
        "\n",
        "Python Method\n",
        "\n",
        "Method is called by its name, but it is associated to an object (dependent).\n",
        "A method definition always includes ‘self’ as its first parameter.\n",
        "A method is implicitly passed to the object on which it is invoked.\n",
        "It may or may not return any data.\n",
        "A method can operate on the data (instance variables) that is contained by the corresponding class\n",
        "Basic Method Structure in Python :\n",
        "\n",
        "\n",
        "\n",
        "\n",
        "# Basic Python method\n",
        "class class_name\n",
        "    def method_name () :\n",
        "        ......\n",
        "        # method body\n",
        "        ......   \n",
        "Python 3 User-Defined Method :\n",
        "\n",
        "\n",
        "\n",
        "\n",
        "# Python 3  User-Defined  Method\n",
        "class ABC :\n",
        "    def method_abc (self):\n",
        "        print(\"I am in method_abc of ABC class. \")\n",
        "\n",
        "class_ref = ABC() # object of ABC class\n",
        "class_ref.method_abc()\n",
        "Output:\n",
        "\n",
        " I am in method_abc of ABC class\n",
        "Python 3 Inbuilt method :\n",
        "\n",
        "\n",
        "\n",
        "\n",
        "import math\n",
        "\n",
        "ceil_val = math.ceil(15.25)\n",
        "print( \"Ceiling value of 15.25 is : \", ceil_val)\n",
        "Output:\n",
        "\n",
        "Ceiling value of 15.25 is :  16\n",
        "Know more about Python ceil() and floor() method.\n",
        "\n",
        "Functions\n",
        "\n",
        "Function is block of code that is also called by its name. (independent)\n",
        "The function can have different parameters or may not have any at all. If any data (parameters) are passed, they are passed explicitly.\n",
        "It may or may not return any data.\n",
        "Function does not deal with Class and its instance concept.\n",
        "Basic Function Structure in Python :\n",
        "\n",
        "\n",
        "\n",
        "\n",
        "def function_name ( arg1, arg2, ...) :\n",
        "    ......\n",
        "    # function body\n",
        "    ......   \n",
        "Python 3 User-Defined Function :\n",
        "\n",
        "\n",
        "\n",
        "\n",
        "def Subtract (a, b):\n",
        "    return (a-b)\n",
        "\n",
        "print( Subtract(10, 12) ) # prints -2\n",
        "\n",
        "print( Subtract(15, 6) ) # prints 9\n",
        "Output:\n",
        "\n",
        "-2\n",
        "9\n",
        "Python 3 Inbuilt Function :\n",
        "\n",
        "\n",
        "\n",
        "\n",
        "s = sum([5, 15, 2])\n",
        "print( s ) # prints 22\n",
        "\n",
        "mx = max(15, 6)\n",
        "print( mx ) # prints 15\n",
        "Output:\n",
        "\n",
        "22\n",
        "15\n",
        "Know more about Python sum() function. Know more about Python min() or max() function.\n",
        "\n",
        "Difference between method and function\n",
        "\n",
        "Simply, function and method both look similar as they perform in almost similar way, but the key difference is the concept of ‘Class and its Object‘.\n",
        "Functions can be called only by its name, as it is defined independently. But methods can’t be called by its name only, we need to invoke the class by a reference of that class in which it is defined, i.e. method is defined within a class and hence they are dependent on that class.\n",
        "\n"
      ],
      "metadata": {
        "id": "tnIdEdTDXWUc"
      }
    },
    {
      "cell_type": "markdown",
      "source": [
        "#3. What are the different ways to define and call a function in Python?"
      ],
      "metadata": {
        "id": "GAWKfivAXoFC"
      }
    },
    {
      "cell_type": "markdown",
      "source": [
        "-\n",
        "\n",
        "In Python, you define a function using the def keyword, followed by the function name, parentheses for parameters, and a colon, then indent the code block. To call a function, simply use its name followed by parentheses, optionally including arguments.\n",
        "\n",
        "Defining a Function:\n",
        "Keyword: Use def to start the function definition.\n",
        "Function Name: Choose a descriptive name for the function.\n",
        "Parameters: Include any required input parameters within the parentheses.\n",
        "Colon: End the function header with a colon.\n",
        "Indented Code Block: The code that the function executes must be indented.\n",
        "\n",
        "Example:\n",
        "\n",
        "def greet(name):  # Define a function named 'greet' with a parameter 'name'\n",
        "    print(f\"Hello, {name}!\")  # Code to be executed within the function\n",
        "\n",
        "\n",
        "Calling a Function:\n",
        "Function Name: Use the name of the function you defined.\n",
        "Parentheses: Follow the function name with parentheses.\n",
        "Arguments: If the function takes parameters, include the necessary arguments inside the parentheses.\n",
        "\n",
        "Example:\n",
        "\n",
        "greet(\"Alice\")  # Call the 'greet' function with the argument \"Alice\"\n",
        "\n",
        "\n"
      ],
      "metadata": {
        "id": "0Mji8L1YYJUB"
      }
    },
    {
      "cell_type": "markdown",
      "source": [
        "#4. What is the purpose of the `return` statement in a Python function?"
      ],
      "metadata": {
        "id": "kSsFfq1FYPvM"
      }
    },
    {
      "cell_type": "markdown",
      "source": [],
      "metadata": {
        "id": "EFB0-1c_Yns9"
      }
    },
    {
      "cell_type": "markdown",
      "source": [
        "-\n",
        "\n",
        "In Python, a function is a standalone block of code that performs a specific task and can be called by its name, while a method is a function that is associated with a class or object and is called using dot notation (e.g., object.method()).\n",
        "\n",
        "Here's a more detailed breakdown:\n",
        "\n",
        "Functions:\n",
        "Definition: Functions are defined outside of any class and can be called directly by their name.\n",
        "Purpose: They are used to encapsulate reusable code blocks and perform specific tasks.\n",
        "Example:\n",
        "\n",
        "    def greet(name):\n",
        "        print(f\"Hello, {name}!\")\n",
        "\n",
        "    greet(\"Alice\")  # Calling the function\n",
        "\n",
        "\n",
        "Scope: Functions have their own scope, meaning variables defined within a function are local to that function.\n",
        "\n",
        "Methods:\n",
        "Definition: Methods are functions defined within a class and are associated with objects of that class.\n",
        "Purpose: They are used to define the behavior and actions that objects of a class can perform.\n",
        "Example:\n",
        "\n",
        "    class Dog:\n",
        "        def __init__(self, name):\n",
        "            self.name = name\n",
        "\n",
        "        def bark(self):\n",
        "            print(f\"{self.name} says Woof!\")\n",
        "\n",
        "    my_dog = Dog(\"Buddy\")\n",
        "    my_dog.bark()  # Calling the method\n",
        "\n",
        "\n",
        "Scope: Methods can access and modify the attributes (variables) of the class.\n",
        "Syntax: Methods are called using the object's name followed by a dot and the method name (e.g., my_dog.bark()).\n",
        "self parameter: Methods typically have a self parameter as the first argument, which refers to the instance (object) of the class on which the method is called.\n"
      ],
      "metadata": {
        "id": "MdwRl-wAWbPy"
      }
    },
    {
      "cell_type": "markdown",
      "source": [
        "- The return statement in Python ends a function's execution and returns a value to the calling function. It's useful for returning the result of a calculation or retrieving specific data.\n",
        "\n",
        "How does the return statement work?\n",
        "\n",
        "The return statement signals the end of a function's execution.\n",
        "The return statement specifies the value or values to pass back from the function.\n",
        "\n",
        "Anything after the return statement won't be executed.\n",
        "If a return statement lacks an expression, it returns the special value None.\n",
        "\n",
        "\n",
        "When to use the return statement?\n",
        "\n",
        "When there is a requirement to send back a value from the function, such as when performing calculations or returning results.\n",
        "\n",
        "Exiting early can improve the efficiency and readability of your code.\n",
        "\n",
        "\n",
        "Return statement\n",
        "\n",
        "You can use the return statement to return the result of a calculation or retrieve specific data.\n",
        "\n",
        "You can print the value that is returned within a print statement to see the value that is returned back to the caller.\n"
      ],
      "metadata": {
        "id": "kjXlPySdYRsJ"
      }
    },
    {
      "cell_type": "markdown",
      "source": [
        "#5. What are iterators in Python and how do they differ from iterables?"
      ],
      "metadata": {
        "id": "Z67jj7-3ZCvx"
      }
    },
    {
      "cell_type": "markdown",
      "source": [
        "-Iterable is an object, that one can iterate over. It generates an Iterator when passed to iter() method. An iterator is an object, which is used to iterate over an iterable object using the __next__() method. Iterators have the __next__() method, which returns the next item of the object."
      ],
      "metadata": {
        "id": "CMx5YYQ5ZQch"
      }
    },
    {
      "cell_type": "markdown",
      "source": [
        "#6. Explain the concept of generators in Python and how they are defined."
      ],
      "metadata": {
        "id": "POKpWpzXZ_G8"
      }
    },
    {
      "cell_type": "markdown",
      "source": [
        "-A generator is a function that produces a sequence of values lazily, one at a time, rather than storing all values in memory at once. It allows for efficient iteration over large datasets or infinite sequences without loading the entire dataset into memory.\n",
        "Generator are implemented using the yield statement in Python. When a generator function is called, it returns an iterator object that can be iterated over. Each time the next() function is called on the iterator, the generator function executes until it encounters a yield statement. The value yielded by the yield statement is returned to the caller, and the generator function is suspended. When next() is called again, the function resumes execution from where it left off.\n",
        "\n",
        "When a generator function is called, it returns a generator object, which behaves like an iterator. Each time the next() function is invoked on the generator object, the function body executes until a yield statement is encountered. The value yielded by yield is returned, and the function’s state is saved. Subsequent calls to next() resume execution from the last saved state, until the function exits or raises a StopIteration exception.\n",
        "\n",
        "\n",
        "\n"
      ],
      "metadata": {
        "id": "sNVgAnQ2aTBt"
      }
    },
    {
      "cell_type": "markdown",
      "source": [],
      "metadata": {
        "id": "b_sA91ZZalkn"
      }
    },
    {
      "cell_type": "markdown",
      "source": [
        "#7. What are the advantages of using generators over regular functions?"
      ],
      "metadata": {
        "id": "B4JqBpJBaqrV"
      }
    },
    {
      "cell_type": "markdown",
      "source": [
        "-Generators have several advantages over regular functions, including memory efficiency, speed, and the ability to represent infinite streams of data.\n",
        "Memory efficiency  \n",
        "\n",
        "\n",
        "• Generators are more memory efficient than lists, especially when working with large data sets.\n",
        "• Generators produce values on the fly, so they don't need to store the entire sequence in memory.\n",
        "\n",
        "Speed\n",
        "\n",
        "• Generators can be faster than regular loops, especially when working with large data sets.\n",
        "\n",
        "Lazy evaluation\n",
        "\n",
        "• Generators compute values only when needed, which can improve performance.\n",
        "\n",
        "Infinite streams\n",
        "\n",
        "• Generators can represent an infinite stream of data because they produce only one item at a time.\n",
        "\n",
        "Code simplicity   \n",
        "\n",
        "• Generators can simplify code for iterating over datasets without explicitly requiring state management.\n",
        "• Generators provide a more concise and readable way to create iterators.   \n",
        "\n",
        "Custom iterators\n",
        "\n",
        "• Generators can be used to create custom iterators.\n",
        "\n",
        "Processing large data sets   \n",
        "\n",
        "• Generators can process large data sets without consuming excessive memory.\n",
        "\n",
        "\n"
      ],
      "metadata": {
        "id": "dKOuRn9tatjm"
      }
    },
    {
      "cell_type": "markdown",
      "source": [
        "#8. What is a lambda function in Python and when is it typically used?"
      ],
      "metadata": {
        "id": "QepQumaVbkg0"
      }
    },
    {
      "cell_type": "markdown",
      "source": [
        "-In Python, a lambda function is a small, anonymous function that's defined using the keyword lambda. Lambda functions are often used for short-term tasks and simple operations.  \n",
        "When to use\n",
        "\n",
        "Short-term tasks\n",
        "\n",
        "Use lambda functions for quick, simple tasks that can be written in a single line.\n",
        "\n",
        "Streamlining code\n",
        "\n",
        "Use lambda functions to streamline code with higher-order functions like map, filter, or sorted.\n",
        "\n",
        "Reducing clutter\n",
        "\n",
        "Use lambda functions to reduce clutter when defining temporary or throwaway logic.\n",
        "\n",
        "Improving readability\n",
        "\n",
        "Use lambda functions to improve code readability in simple scenarios.\n",
        "\n",
        "How to use\n",
        "\n",
        "• Define a lambda function using the syntax lambda parameters: expression.  \n",
        "• Pass lambda functions as arguments to other functions.\n",
        "• Use lambda functions with built-in functions like filter, map, and reduce.\n",
        "\n",
        "Why use\n",
        "Lambda functions are efficient and useful when you want to create a function that will only contain simple expressions. They're also useful when you want to use the function once.   \n",
        "When not to use\n",
        "For more complex operations, regular functions are preferred for their readability and maintainability.\n"
      ],
      "metadata": {
        "id": "vuO--2aobsLJ"
      }
    },
    {
      "cell_type": "markdown",
      "source": [
        "#9. Explain the purpose and usage of the `map()` function in Python."
      ],
      "metadata": {
        "id": "SkrZYqI2c8cU"
      }
    },
    {
      "cell_type": "markdown",
      "source": [
        "-The map() function in Python applies a given function to each item of an iterable (like a list or tuple) and returns a new iterator (a map object) containing the results.\n",
        "\n",
        "\n",
        "Purpose:\n",
        "\n",
        "\n",
        "Transformation: map() is used to transform the elements of an iterable by applying a function to each element.\n",
        "Efficiency: It provides a concise and efficient way to apply a function to all items in an iterable without using explicit loops.\n",
        "Functional Programming: It supports a functional programming style in Python.\n",
        "\n",
        "Syntax:\n",
        "Python\n",
        "\n",
        "map(function, iterable, [iterable2, iterable3, ...])\n",
        "function: The function to apply to each item of the iterable(s).\n",
        "iterable: The sequence (list, tuple, string, etc.) to process.\n",
        "[iterable2, iterable3, ...] (optional): Additional iterables to process in parallel. The function should accept as many arguments as there are iterables.\n"
      ],
      "metadata": {
        "id": "6tZoZTYudqPl"
      }
    },
    {
      "cell_type": "markdown",
      "source": [
        "# 10. What is the difference between `map()`, `reduce()`, and `filter()` functions in Python?"
      ],
      "metadata": {
        "id": "f2HVhib9eu35"
      }
    },
    {
      "cell_type": "markdown",
      "source": [
        "-Map' applies a function to each element in an array and returns an array of the results, 'Reduce' applies a function to the array and returns a single output, 'Filter' uses a boolean function to select certain elements from an array."
      ],
      "metadata": {
        "id": "vmouyj4oexZd"
      }
    },
    {
      "cell_type": "markdown",
      "source": [
        "# 11. Using pen & Paper write the internal mechanism for sum operation using  reduce function on this given\n",
        "list:[47,11,42,13];"
      ],
      "metadata": {
        "id": "-Na2bgGIfHul"
      }
    },
    {
      "cell_type": "code",
      "source": [
        "import functools\n",
        "\n",
        "# importing operator for operator functions\n",
        "import operator\n",
        "\n",
        "# initializing list\n",
        "a = [47,11,42,13]\n",
        "\n",
        "# using reduce with add to compute sum of list\n",
        "print(functools.reduce(operator.add, a))\n",
        "\n",
        "# using reduce with mul to compute product\n",
        "print(functools.reduce(operator.mul, a))\n",
        "\n",
        "# using reduce with add to concatenate string\n",
        "print(functools.reduce(operator.add, [\"geeks\", \"for\", \"geeks\"]))\n"
      ],
      "metadata": {
        "colab": {
          "base_uri": "https://localhost:8080/"
        },
        "id": "D6SqOoF4f794",
        "outputId": "6de07fb8-d28d-42e7-a684-872529b01ad3"
      },
      "execution_count": null,
      "outputs": [
        {
          "output_type": "stream",
          "name": "stdout",
          "text": [
            "113\n",
            "282282\n",
            "geeksforgeeks\n"
          ]
        }
      ]
    },
    {
      "cell_type": "markdown",
      "source": [],
      "metadata": {
        "id": "mnQEon6Chlgu"
      }
    },
    {
      "cell_type": "markdown",
      "source": [
        "#   PRACTICLE QUESTION"
      ],
      "metadata": {
        "id": "8gSjJS2hhhYZ"
      }
    },
    {
      "cell_type": "markdown",
      "source": [],
      "metadata": {
        "id": "q3v6IESnheeH"
      }
    },
    {
      "cell_type": "markdown",
      "source": [
        "# 1. Write a Python function that takes a list of numbers as input and returns the sum of all even numbers in the list.\n"
      ],
      "metadata": {
        "id": "sRw_uABegg-J"
      }
    },
    {
      "cell_type": "code",
      "source": [
        "\n",
        "# initializing list\n",
        "         def sum_of_even_numbers(numbers):\n",
        "    return sum(num for num in numbers if num % 2 == 0)\n",
        "\n",
        "      numbers = [1, 2, 3, 4, 5, 6]\n",
        "print(sum_of_even_numbers(numbers))  # Output: 12 (2 + 4 + 6)\n"
      ],
      "metadata": {
        "colab": {
          "base_uri": "https://localhost:8080/",
          "height": 106
        },
        "id": "sDTn4Hdkh68i",
        "outputId": "65d1eaac-43a5-4c1b-ca6f-5ebbddc62cf6"
      },
      "execution_count": null,
      "outputs": [
        {
          "output_type": "error",
          "ename": "IndentationError",
          "evalue": "unindent does not match any outer indentation level (<tokenize>, line 3)",
          "traceback": [
            "\u001b[0;36m  File \u001b[0;32m\"<tokenize>\"\u001b[0;36m, line \u001b[0;32m3\u001b[0m\n\u001b[0;31m    return sum(num for num in numbers if num % 2 == 0)\u001b[0m\n\u001b[0m    ^\u001b[0m\n\u001b[0;31mIndentationError\u001b[0m\u001b[0;31m:\u001b[0m unindent does not match any outer indentation level\n"
          ]
        }
      ]
    },
    {
      "cell_type": "code",
      "source": [],
      "metadata": {
        "id": "fNx7dS9Mkqvz"
      },
      "execution_count": null,
      "outputs": []
    },
    {
      "cell_type": "markdown",
      "source": [
        "# 2. Create a Python function that accepts a string and returns the reverse of that string."
      ],
      "metadata": {
        "id": "tyVDeYvxi8GN"
      }
    },
    {
      "cell_type": "code",
      "source": [
        "def reverse_string(s):\n",
        "    return s[::-1]\n"
      ],
      "metadata": {
        "id": "lLepn_I_i_K3"
      },
      "execution_count": null,
      "outputs": []
    },
    {
      "cell_type": "code",
      "source": [
        "print(reverse_string(\"hello\"))  # Output: \"olleh\"\n"
      ],
      "metadata": {
        "colab": {
          "base_uri": "https://localhost:8080/"
        },
        "id": "ELLYnrTBjd3V",
        "outputId": "93140abe-bb6d-4fc7-9209-1264d42e9913"
      },
      "execution_count": null,
      "outputs": [
        {
          "output_type": "stream",
          "name": "stdout",
          "text": [
            "olleh\n"
          ]
        }
      ]
    },
    {
      "cell_type": "markdown",
      "source": [
        "# 3. Implement a Python function that takes a list of integers and returns a new list containing the squares of EACH NUMBERS\n"
      ],
      "metadata": {
        "id": "I4XLZ5YykmeH"
      }
    },
    {
      "cell_type": "code",
      "source": [
        "def square_numbers(numbers):\n",
        "    return [num ** 2 for num in numbers]\n",
        "numbers = [1, 2, 3, 4, 5]\n",
        "print(square_numbers(numbers))  # Output: [1, 4, 9, 16, 25]\n"
      ],
      "metadata": {
        "colab": {
          "base_uri": "https://localhost:8080/"
        },
        "id": "KvSQH2Tck-Q2",
        "outputId": "bf1e9145-f0cd-4088-b613-d119999422da"
      },
      "execution_count": null,
      "outputs": [
        {
          "output_type": "stream",
          "name": "stdout",
          "text": [
            "[1, 4, 9, 16, 25]\n"
          ]
        }
      ]
    },
    {
      "cell_type": "markdown",
      "source": [
        "# 4. 4. Write a Python function that checks if a given number is prime or not from 1 to 200."
      ],
      "metadata": {
        "id": "YjhoEieClO8R"
      }
    },
    {
      "cell_type": "code",
      "source": [
        "def is_prime(n):\n",
        "    if n <= 1:\n",
        "        return False\n",
        "    for i in range(2, int(n**0.5) + 1):\n",
        "        if n % i == 0:\n",
        "            return False\n",
        "    return True\n",
        "for num in range(1, 201):\n",
        "    if is_prime(num):\n",
        "        print(f\"{num} is prime\")\n"
      ],
      "metadata": {
        "colab": {
          "base_uri": "https://localhost:8080/"
        },
        "id": "qCujHDSVlf7g",
        "outputId": "b31230d8-5a96-43dd-f348-89e20115b8fc"
      },
      "execution_count": null,
      "outputs": [
        {
          "output_type": "stream",
          "name": "stdout",
          "text": [
            "2 is prime\n",
            "3 is prime\n",
            "5 is prime\n",
            "7 is prime\n",
            "11 is prime\n",
            "13 is prime\n",
            "17 is prime\n",
            "19 is prime\n",
            "23 is prime\n",
            "29 is prime\n",
            "31 is prime\n",
            "37 is prime\n",
            "41 is prime\n",
            "43 is prime\n",
            "47 is prime\n",
            "53 is prime\n",
            "59 is prime\n",
            "61 is prime\n",
            "67 is prime\n",
            "71 is prime\n",
            "73 is prime\n",
            "79 is prime\n",
            "83 is prime\n",
            "89 is prime\n",
            "97 is prime\n",
            "101 is prime\n",
            "103 is prime\n",
            "107 is prime\n",
            "109 is prime\n",
            "113 is prime\n",
            "127 is prime\n",
            "131 is prime\n",
            "137 is prime\n",
            "139 is prime\n",
            "149 is prime\n",
            "151 is prime\n",
            "157 is prime\n",
            "163 is prime\n",
            "167 is prime\n",
            "173 is prime\n",
            "179 is prime\n",
            "181 is prime\n",
            "191 is prime\n",
            "193 is prime\n",
            "197 is prime\n",
            "199 is prime\n"
          ]
        }
      ]
    },
    {
      "cell_type": "markdown",
      "source": [
        "# 5. Create an iterator class in Python that generates the Fibonacci sequence up to a specified number of them.\n",
        "\n"
      ],
      "metadata": {
        "id": "cYb3o1SDh9yL"
      }
    },
    {
      "cell_type": "code",
      "source": [
        "class FibonacciIterator:\n",
        "    def __init__(self, num_terms):\n",
        "        self.num_terms = num_terms\n",
        "        self.current = 0\n",
        "        self.previous = 0\n",
        "        self.next_term = 1\n",
        "        self.count = 0\n",
        "\n",
        "    def __iter__(self):\n",
        "        return self\n",
        "\n",
        "    def __next__(self):\n",
        "        if self.count >= self.num_terms:\n",
        "            raise StopIteration\n",
        "        elif self.count == 0:\n",
        "            self.count += 1\n",
        "            return 0\n",
        "        elif self.count == 1:\n",
        "            self.count += 1\n",
        "            return 1\n",
        "        else:\n",
        "            fib_value = self.previous + self.next_term\n",
        "            self.previous, self.next_term = self.next_term, fib_value\n",
        "            self.count += 1\n",
        "            return fib_value\n",
        "\n",
        "# Example of usage\n",
        "fibonacci = FibonacciIterator(10)\n",
        "\n",
        "for num in fibonacci:\n",
        "    print(num)\n"
      ],
      "metadata": {
        "colab": {
          "base_uri": "https://localhost:8080/"
        },
        "id": "AAzzxoMCiUn5",
        "outputId": "1a2022f0-f964-42f2-f8bb-00e2bf61e87c"
      },
      "execution_count": 3,
      "outputs": [
        {
          "output_type": "stream",
          "name": "stdout",
          "text": [
            "0\n",
            "1\n",
            "1\n",
            "2\n",
            "3\n",
            "5\n",
            "8\n",
            "13\n",
            "21\n",
            "34\n"
          ]
        }
      ]
    },
    {
      "cell_type": "markdown",
      "source": [
        "# 6. Write a generator function in Python that yields the powers of 2 up to a given exponent."
      ],
      "metadata": {
        "id": "92ZBBq9sjYYj"
      }
    },
    {
      "cell_type": "code",
      "source": [
        "def powers_of_2(exponent):\n",
        "    for i in range(exponent + 1):\n",
        "        yield 2 ** i\n",
        "\n",
        "# Example of usage\n",
        "for power in powers_of_2(5):\n",
        "    print(power)\n"
      ],
      "metadata": {
        "colab": {
          "base_uri": "https://localhost:8080/"
        },
        "id": "fLYYYgg-jbJ1",
        "outputId": "a219a364-fde6-4415-df30-25218f753a13"
      },
      "execution_count": 4,
      "outputs": [
        {
          "output_type": "stream",
          "name": "stdout",
          "text": [
            "1\n",
            "2\n",
            "4\n",
            "8\n",
            "16\n",
            "32\n"
          ]
        }
      ]
    },
    {
      "cell_type": "markdown",
      "source": [
        "def read_file_line_by_line(file_path):\n",
        "    with open(file_path, 'r') as file:\n",
        "        for line in file:\n",
        "            yield line.strip()  # Use .strip() to remove any trailing newline characters\n",
        "\n",
        "# Example of usage\n",
        "file_path = 'example.txt'  # Replace with your file path\n",
        "for line in read_file_line_by_line(file_path):\n",
        "    print(line)\n"
      ],
      "metadata": {
        "id": "tFoZVwP0jnd3"
      }
    },
    {
      "cell_type": "markdown",
      "source": [
        "# 7. Implement a generator function that reads a file line by line and yields each line as a string."
      ],
      "metadata": {
        "id": "-AGrV6mmj9Ma"
      }
    },
    {
      "cell_type": "code",
      "source": [
        "def read_file_line_by_line(file_path):\n",
        "    with open(file_path, 'r') as file:\n",
        "        for line in file:\n",
        "            yield line.strip()  # Use .strip() to remove any trailing newline characters\n",
        "\n",
        "# Example of usage\n",
        "file_path = 'example.txt'  # Replace with your file path\n",
        "for line in read_file_line_by_line(file_path):\n",
        "    print(line)\n"
      ],
      "metadata": {
        "colab": {
          "base_uri": "https://localhost:8080/",
          "height": 315
        },
        "id": "cCjddvHzj8xJ",
        "outputId": "ec49e33c-53b4-4dae-a2ea-fca24f40329d"
      },
      "execution_count": 5,
      "outputs": [
        {
          "output_type": "error",
          "ename": "FileNotFoundError",
          "evalue": "[Errno 2] No such file or directory: 'example.txt'",
          "traceback": [
            "\u001b[0;31m---------------------------------------------------------------------------\u001b[0m",
            "\u001b[0;31mFileNotFoundError\u001b[0m                         Traceback (most recent call last)",
            "\u001b[0;32m<ipython-input-5-291857244085>\u001b[0m in \u001b[0;36m<cell line: 0>\u001b[0;34m()\u001b[0m\n\u001b[1;32m      6\u001b[0m \u001b[0;31m# Example of usage\u001b[0m\u001b[0;34m\u001b[0m\u001b[0;34m\u001b[0m\u001b[0m\n\u001b[1;32m      7\u001b[0m \u001b[0mfile_path\u001b[0m \u001b[0;34m=\u001b[0m \u001b[0;34m'example.txt'\u001b[0m  \u001b[0;31m# Replace with your file path\u001b[0m\u001b[0;34m\u001b[0m\u001b[0;34m\u001b[0m\u001b[0m\n\u001b[0;32m----> 8\u001b[0;31m \u001b[0;32mfor\u001b[0m \u001b[0mline\u001b[0m \u001b[0;32min\u001b[0m \u001b[0mread_file_line_by_line\u001b[0m\u001b[0;34m(\u001b[0m\u001b[0mfile_path\u001b[0m\u001b[0;34m)\u001b[0m\u001b[0;34m:\u001b[0m\u001b[0;34m\u001b[0m\u001b[0;34m\u001b[0m\u001b[0m\n\u001b[0m\u001b[1;32m      9\u001b[0m     \u001b[0mprint\u001b[0m\u001b[0;34m(\u001b[0m\u001b[0mline\u001b[0m\u001b[0;34m)\u001b[0m\u001b[0;34m\u001b[0m\u001b[0;34m\u001b[0m\u001b[0m\n",
            "\u001b[0;32m<ipython-input-5-291857244085>\u001b[0m in \u001b[0;36mread_file_line_by_line\u001b[0;34m(file_path)\u001b[0m\n\u001b[1;32m      1\u001b[0m \u001b[0;32mdef\u001b[0m \u001b[0mread_file_line_by_line\u001b[0m\u001b[0;34m(\u001b[0m\u001b[0mfile_path\u001b[0m\u001b[0;34m)\u001b[0m\u001b[0;34m:\u001b[0m\u001b[0;34m\u001b[0m\u001b[0;34m\u001b[0m\u001b[0m\n\u001b[0;32m----> 2\u001b[0;31m     \u001b[0;32mwith\u001b[0m \u001b[0mopen\u001b[0m\u001b[0;34m(\u001b[0m\u001b[0mfile_path\u001b[0m\u001b[0;34m,\u001b[0m \u001b[0;34m'r'\u001b[0m\u001b[0;34m)\u001b[0m \u001b[0;32mas\u001b[0m \u001b[0mfile\u001b[0m\u001b[0;34m:\u001b[0m\u001b[0;34m\u001b[0m\u001b[0;34m\u001b[0m\u001b[0m\n\u001b[0m\u001b[1;32m      3\u001b[0m         \u001b[0;32mfor\u001b[0m \u001b[0mline\u001b[0m \u001b[0;32min\u001b[0m \u001b[0mfile\u001b[0m\u001b[0;34m:\u001b[0m\u001b[0;34m\u001b[0m\u001b[0;34m\u001b[0m\u001b[0m\n\u001b[1;32m      4\u001b[0m             \u001b[0;32myield\u001b[0m \u001b[0mline\u001b[0m\u001b[0;34m.\u001b[0m\u001b[0mstrip\u001b[0m\u001b[0;34m(\u001b[0m\u001b[0;34m)\u001b[0m  \u001b[0;31m# Use .strip() to remove any trailing newline characters\u001b[0m\u001b[0;34m\u001b[0m\u001b[0;34m\u001b[0m\u001b[0m\n\u001b[1;32m      5\u001b[0m \u001b[0;34m\u001b[0m\u001b[0m\n",
            "\u001b[0;31mFileNotFoundError\u001b[0m: [Errno 2] No such file or directory: 'example.txt'"
          ]
        }
      ]
    },
    {
      "cell_type": "code",
      "source": [],
      "metadata": {
        "id": "v-SORcmDkC4a"
      },
      "execution_count": null,
      "outputs": []
    },
    {
      "cell_type": "markdown",
      "source": [
        "# 8. Use a lambda function in Python to sort a list of tuples based on the second element of each tuple."
      ],
      "metadata": {
        "id": "_0f6T6eFkgii"
      }
    },
    {
      "cell_type": "code",
      "source": [
        "# List of tuples\n",
        "tuples_list = [(1, 3), (4, 1), (5, 2), (2, 5)]\n",
        "\n",
        "# Sorting the list based on the second element of each tuple\n",
        "sorted_list = sorted(tuples_list, key=lambda x: x[1])\n",
        "\n",
        "# Output the sorted list\n",
        "print(sorted_list)\n"
      ],
      "metadata": {
        "colab": {
          "base_uri": "https://localhost:8080/"
        },
        "id": "sGR1aiLWkjbR",
        "outputId": "64c1ac6f-83d4-499f-e253-1eb32fe8b82e"
      },
      "execution_count": 6,
      "outputs": [
        {
          "output_type": "stream",
          "name": "stdout",
          "text": [
            "[(4, 1), (5, 2), (1, 3), (2, 5)]\n"
          ]
        }
      ]
    },
    {
      "cell_type": "markdown",
      "source": [
        "# 9. Write a Python program that uses `map()` to convert a list of temperatures from Celsius to Fahrenheit."
      ],
      "metadata": {
        "id": "kd4bavLyk8c0"
      }
    },
    {
      "cell_type": "code",
      "source": [
        "# List of temperatures in Celsius\n",
        "celsius_temperatures = [0, 20, 37, 100, -5]\n",
        "\n",
        "# Function to convert Celsius to Fahrenheit\n",
        "def celsius_to_fahrenheit(celsius):\n",
        "    return (celsius * 9/5) + 32\n",
        "\n",
        "# Use map() to apply the conversion function to the list of Celsius temperatures\n",
        "fahrenheit_temperatures = list(map(celsius_to_fahrenheit, celsius_temperatures))\n",
        "\n",
        "# Output the result\n",
        "print(fahrenheit_temperatures)\n"
      ],
      "metadata": {
        "colab": {
          "base_uri": "https://localhost:8080/"
        },
        "id": "AyKGY-n7k__J",
        "outputId": "1528d3af-bd12-4528-a63c-d1fe820996dc"
      },
      "execution_count": 7,
      "outputs": [
        {
          "output_type": "stream",
          "name": "stdout",
          "text": [
            "[32.0, 68.0, 98.6, 212.0, 23.0]\n"
          ]
        }
      ]
    },
    {
      "cell_type": "markdown",
      "source": [
        "# 10. Create a Python program that uses `filter()` to remove all the vowels from a given string."
      ],
      "metadata": {
        "id": "N2i3mQ3ZlSR4"
      }
    },
    {
      "cell_type": "code",
      "source": [
        "# Function to check if a character is a vowel\n",
        "def is_not_vowel(char):\n",
        "    vowels = 'aeiouAEIOU'\n",
        "    return char not in vowels\n",
        "\n",
        "# Given string\n",
        "input_string = \"Hello, World!\"\n",
        "\n",
        "# Use filter() to filter out vowels\n",
        "filtered_string = ''.join(filter(is_not_vowel, input_string))\n",
        "\n"
      ],
      "metadata": {
        "colab": {
          "base_uri": "https://localhost:8080/"
        },
        "id": "sGEDgJghlVKV",
        "outputId": "5e7c26e8-e6da-4f83-8419-139f53a05f92"
      },
      "execution_count": 8,
      "outputs": [
        {
          "output_type": "stream",
          "name": "stdout",
          "text": [
            "Hll, Wrld!\n"
          ]
        }
      ]
    },
    {
      "cell_type": "markdown",
      "source": [],
      "metadata": {
        "id": "bXAEPGROlvkW"
      }
    },
    {
      "cell_type": "markdown",
      "source": [
        "# 11) Imagine an accounting routine used in a book shop. It works on a list with sublists, which look like this:"
      ],
      "metadata": {
        "id": "1YeUBjJHlmqn"
      }
    },
    {
      "cell_type": "markdown",
      "source": [],
      "metadata": {
        "id": "OvKS0QBFkdtv"
      }
    },
    {
      "cell_type": "markdown",
      "source": [
        "\n",
        "\n",
        "\n",
        "\n"
      ],
      "metadata": {
        "id": "kMK1_lv9hoM7"
      }
    },
    {
      "cell_type": "markdown",
      "source": [
        "\n",
        "\n",
        "\n",
        "\n"
      ],
      "metadata": {
        "id": "KtRNiX8dhY_7"
      }
    },
    {
      "cell_type": "markdown",
      "source": [],
      "metadata": {
        "id": "pIlrEoMqdsbB"
      }
    },
    {
      "cell_type": "markdown",
      "source": [],
      "metadata": {
        "id": "e1fssDcpcYNe"
      }
    },
    {
      "cell_type": "markdown",
      "source": [],
      "metadata": {
        "id": "aeYK7l1act2V"
      }
    },
    {
      "cell_type": "markdown",
      "source": [],
      "metadata": {
        "id": "ulLVSfAfas3i"
      }
    },
    {
      "cell_type": "markdown",
      "source": [],
      "metadata": {
        "id": "1WLSw-uzZ3Bc"
      }
    },
    {
      "cell_type": "markdown",
      "source": [],
      "metadata": {
        "id": "6WBqQfNpZEfq"
      }
    },
    {
      "cell_type": "markdown",
      "source": [],
      "metadata": {
        "id": "8zvHlee0WsbU"
      }
    },
    {
      "cell_type": "markdown",
      "source": [],
      "metadata": {
        "id": "NikdzB_sWcbf"
      }
    },
    {
      "cell_type": "markdown",
      "source": [
        "-"
      ],
      "metadata": {
        "id": "r1ZjbZgfVzFu"
      }
    },
    {
      "cell_type": "markdown",
      "source": [],
      "metadata": {
        "id": "rzb24UM1Vlum"
      }
    },
    {
      "cell_type": "markdown",
      "source": [],
      "metadata": {
        "id": "TqEDXfc3Vlri"
      }
    },
    {
      "cell_type": "markdown",
      "source": [],
      "metadata": {
        "id": "4WtOlMmEViTV"
      }
    },
    {
      "cell_type": "code",
      "execution_count": null,
      "metadata": {
        "id": "1zvtm7grVSVc"
      },
      "outputs": [],
      "source": []
    },
    {
      "cell_type": "markdown",
      "source": [],
      "metadata": {
        "id": "qNHZtOBzVcsf"
      }
    },
    {
      "cell_type": "markdown",
      "source": [],
      "metadata": {
        "id": "arvkMLT6Vfgs"
      }
    }
  ]
}